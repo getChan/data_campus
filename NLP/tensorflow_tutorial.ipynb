{
  "nbformat": 4,
  "nbformat_minor": 0,
  "metadata": {
    "colab": {
      "name": "tensorflow_tutorial.ipynb",
      "version": "0.3.2",
      "provenance": [],
      "collapsed_sections": [],
      "include_colab_link": true
    },
    "kernelspec": {
      "name": "python3",
      "display_name": "Python 3"
    }
  },
  "cells": [
    {
      "cell_type": "markdown",
      "metadata": {
        "id": "view-in-github",
        "colab_type": "text"
      },
      "source": [
        "<a href=\"https://colab.research.google.com/github/getChan/data_campus/blob/master/NLP/tensorflow_tutorial.ipynb\" target=\"_parent\"><img src=\"https://colab.research.google.com/assets/colab-badge.svg\" alt=\"Open In Colab\"/></a>"
      ]
    },
    {
      "cell_type": "markdown",
      "metadata": {
        "id": "iNbZ2ou_oKUI",
        "colab_type": "text"
      },
      "source": [
        "# Tensorflow Concepts\n",
        "\n"
      ]
    },
    {
      "cell_type": "code",
      "metadata": {
        "id": "ZLCTUvCun5e-",
        "colab_type": "code",
        "colab": {}
      },
      "source": [
        "import tensorflow as tf\n",
        "import numpy as np"
      ],
      "execution_count": 0,
      "outputs": []
    },
    {
      "cell_type": "code",
      "metadata": {
        "id": "Q1hlFcpaoe99",
        "colab_type": "code",
        "colab": {
          "base_uri": "https://localhost:8080/",
          "height": 70
        },
        "outputId": "3f233e73-1dfa-461b-da9b-f100fa055b82"
      },
      "source": [
        "a = tf.placeholder(tf.float32, shape=[3,4])\n",
        "b = tf.placeholder(tf.float32, shape=[4,6])\n",
        "\n",
        "\n",
        "op = tf.matmul(a, b)\n",
        "\n",
        "a_mat = np.random.randn(3,4)\n",
        "b_mat = np.random.randn(4,6)\n",
        "\n",
        "with tf.Session() as sess:\n",
        "  print(sess.run(op, feed_dict={a:a_mat, b:b_mat}))"
      ],
      "execution_count": 29,
      "outputs": [
        {
          "output_type": "stream",
          "text": [
            "[[ 0.5456903  -0.8009943  -0.6600466   0.27159917 -0.12338307 -0.71377426]\n",
            " [ 1.890008    1.060418    0.55130184 -0.46573135 -0.7733471  -0.49385256]\n",
            " [-1.0697331   3.002978    0.03745753 -1.3840796  -0.02584723  1.3906353 ]]\n"
          ],
          "name": "stdout"
        }
      ]
    },
    {
      "cell_type": "code",
      "metadata": {
        "id": "cvZo4CZLpZSa",
        "colab_type": "code",
        "colab": {
          "base_uri": "https://localhost:8080/",
          "height": 34
        },
        "outputId": "21d8cd31-b5a0-4909-fc10-2fab4f1739b2"
      },
      "source": [
        "\n",
        "\n",
        "W = tf.Variable([0.3], dtype=tf.float32)\n",
        "b = tf.Variable([-0.3], dtype=tf.float32)\n",
        "x = tf.placeholder(tf.float32)\n",
        "\n",
        "linear_model = x*W + b\n",
        "\n",
        "init_op = tf.global_variables_initializer()\n",
        "\n",
        "with tf.Session() as sess:\n",
        "  sess.run(init_op)\n",
        "  print(sess.run(linear_model, feed_dict={x:5.0}))"
      ],
      "execution_count": 30,
      "outputs": [
        {
          "output_type": "stream",
          "text": [
            "[1.2]\n"
          ],
          "name": "stdout"
        }
      ]
    },
    {
      "cell_type": "markdown",
      "metadata": {
        "id": "vglslBrlsU77",
        "colab_type": "text"
      },
      "source": [
        "# Logistic Regression"
      ]
    },
    {
      "cell_type": "code",
      "metadata": {
        "id": "yDcIqiyRqbS-",
        "colab_type": "code",
        "colab": {}
      },
      "source": [
        "x_data = [[1, 2],\n",
        "          [2, 3],\n",
        "          [3, 1],\n",
        "          [4, 3],\n",
        "          [5, 3],\n",
        "          [6, 2]]\n",
        "y_data = [[0],\n",
        "          [0],\n",
        "          [0],\n",
        "          [1],\n",
        "          [1],\n",
        "          [1]]\n",
        "\n",
        "x_test_data = [[1,1], [5,4], [2,1], [6,3]]\n",
        "y_test_data = [[0], [1], [0], [1]]"
      ],
      "execution_count": 0,
      "outputs": []
    },
    {
      "cell_type": "code",
      "metadata": {
        "id": "pV3BNNjwsvIL",
        "colab_type": "code",
        "colab": {}
      },
      "source": [
        "# placeholders for a tensor that will be always fed.\n",
        "x = tf.placeholder(tf.float32, shape=[None, 2], name=\"x_ph\")\n",
        "y = tf.placeholder(tf.float32, shape=[None, 1], name=\"y_ph\")"
      ],
      "execution_count": 0,
      "outputs": []
    },
    {
      "cell_type": "code",
      "metadata": {
        "id": "twzfimABswWT",
        "colab_type": "code",
        "colab": {}
      },
      "source": [
        "W = tf.Variable(tf.random_normal([2, 1]), name='weight')\n",
        "b = tf.Variable(tf.random_normal([1]), name='bias')"
      ],
      "execution_count": 0,
      "outputs": []
    },
    {
      "cell_type": "code",
      "metadata": {
        "id": "MaSP2PFosxhu",
        "colab_type": "code",
        "colab": {}
      },
      "source": [
        "# Hypothesis using sigmoid\n",
        "hypothesis = tf.sigmoid(tf.matmul(x, W) + b)\n",
        "\n",
        "# cost/loss function\n",
        "cost = -tf.reduce_mean(y * tf.log(hypothesis) + (1 - y) *\n",
        "                       tf.log(1 - hypothesis))\n",
        "\n",
        "train = tf.train.GradientDescentOptimizer(learning_rate=0.01).minimize(cost)\n",
        "\n",
        "# Accuracy computation\n",
        "# True if hypothesis>0.5 else False\n",
        "predicted = tf.cast(hypothesis > 0.5, dtype=tf.float32) # boolean to float32\n",
        "accuracy = tf.reduce_mean(tf.cast(tf.equal(predicted, y), dtype=tf.float32))"
      ],
      "execution_count": 0,
      "outputs": []
    },
    {
      "cell_type": "code",
      "metadata": {
        "id": "HUxjvFtxszVa",
        "colab_type": "code",
        "colab": {
          "base_uri": "https://localhost:8080/",
          "height": 1000
        },
        "outputId": "d58c4a43-a7b2-4dfc-a5f3-8b77095a24c6"
      },
      "source": [
        "# Launch graph\n",
        "with tf.Session() as sess:\n",
        "    sess.run(tf.global_variables_initializer())\n",
        "\n",
        "    for step in range(10001):\n",
        "        cost_val, _ = sess.run([cost, train], feed_dict={x: x_data, y: y_data})\n",
        "        if step % 200 == 0:\n",
        "            print(step, cost_val)\n",
        "\n",
        "    # Accuracy report\n",
        "    hypothesis_val, pred_val, acc_val = sess.run([hypothesis, predicted, accuracy],\n",
        "                       feed_dict={x: x_test_data, y: y_test_data})\n",
        "    print(\"\\nHypothesis: \", hypothesis_val, \"\\nCorrect : \", pred_val, \"\\nAccuracy: \", acc_val)"
      ],
      "execution_count": 35,
      "outputs": [
        {
          "output_type": "stream",
          "text": [
            "0 1.3485712\n",
            "200 0.58159083\n",
            "400 0.5103544\n",
            "600 0.47224438\n",
            "800 0.44703197\n",
            "1000 0.42762554\n",
            "1200 0.41122702\n",
            "1400 0.39661315\n",
            "1600 0.38320163\n",
            "1800 0.3706942\n",
            "2000 0.35892662\n",
            "2200 0.34780017\n",
            "2400 0.3372502\n",
            "2600 0.32722977\n",
            "2800 0.31770208\n",
            "3000 0.30863592\n",
            "3200 0.3000035\n",
            "3400 0.29177985\n",
            "3600 0.28394145\n",
            "3800 0.2764664\n",
            "4000 0.269334\n",
            "4200 0.26252502\n",
            "4400 0.25602093\n",
            "4600 0.24980448\n",
            "4800 0.24385971\n",
            "5000 0.23817115\n",
            "5200 0.23272456\n",
            "5400 0.22750641\n",
            "5600 0.22250421\n",
            "5800 0.21770601\n",
            "6000 0.21310067\n",
            "6200 0.20867777\n",
            "6400 0.20442764\n",
            "6600 0.20034109\n",
            "6800 0.19640946\n",
            "7000 0.19262482\n",
            "7200 0.18897943\n",
            "7400 0.18546633\n",
            "7600 0.18207884\n",
            "7800 0.17881067\n",
            "8000 0.17565607\n",
            "8200 0.17260928\n",
            "8400 0.16966529\n",
            "8600 0.16681916\n",
            "8800 0.16406633\n",
            "9000 0.16140242\n",
            "9200 0.15882336\n",
            "9400 0.15632527\n",
            "9600 0.15390454\n",
            "9800 0.15155776\n",
            "10000 0.14928168\n",
            "\n",
            "Hypothesis:  [[0.02255697]\n",
            " [0.9552605 ]\n",
            " [0.09132387]\n",
            " [0.985479  ]] \n",
            "Correct :  [[0.]\n",
            " [1.]\n",
            " [0.]\n",
            " [1.]] \n",
            "Accuracy:  1.0\n"
          ],
          "name": "stdout"
        }
      ]
    },
    {
      "cell_type": "code",
      "metadata": {
        "id": "Uzuf9suOs1j9",
        "colab_type": "code",
        "colab": {}
      },
      "source": [
        ""
      ],
      "execution_count": 0,
      "outputs": []
    }
  ]
}